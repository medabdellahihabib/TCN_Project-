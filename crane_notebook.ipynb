{
  "nbformat": 4,
  "nbformat_minor": 0,
  "metadata": {
    "colab": {
      "provenance": []
    },
    "kernelspec": {
      "name": "python3",
      "display_name": "Python 3"
    },
    "language_info": {
      "name": "python"
    }
  },
  "cells": [
    {
      "cell_type": "markdown",
      "source": [
        "# Amélioration de la planification de la maintenance et de la fiabilité grâce à l’intégration de l’IA et de l’analyse décisionnelle (BI)"
      ],
      "metadata": {
        "id": "lKGd-FP0XBZl"
      }
    },
    {
      "cell_type": "markdown",
      "source": [
        "# CRANE SECTION"
      ],
      "metadata": {
        "id": "vMxLA5B9kcL3"
      }
    },
    {
      "cell_type": "markdown",
      "source": [
        "# 1. Business understanding"
      ],
      "metadata": {
        "id": "D-tS9qfeXf38"
      }
    },
    {
      "cell_type": "code",
      "source": [
        "import pandas as pd\n",
        "\n",
        "file_path = r'/content/Data.xlsx'\n",
        "df = pd.read_excel(file_path, header=4)\n",
        "df.columns = df.iloc[0]\n",
        "df_cleaned = df[1:].reset_index(drop=True)\n",
        "df_cleaned.head()\n"
      ],
      "metadata": {
        "colab": {
          "base_uri": "https://localhost:8080/",
          "height": 587
        },
        "id": "-DIG5xV-XrW5",
        "outputId": "a59afd7a-b03e-48cc-9f02-f88491fbd347"
      },
      "execution_count": null,
      "outputs": [
        {
          "output_type": "stream",
          "name": "stderr",
          "text": [
            "/usr/local/lib/python3.11/dist-packages/openpyxl/worksheet/_reader.py:329: UserWarning: Unknown extension is not supported and will be removed\n",
            "  warn(msg)\n"
          ]
        },
        {
          "output_type": "execute_result",
          "data": {
            "text/plain": [
              "0 Sr.No  Eq status ID: Activity/ Equipment   \\\n",
              "0   NaN  Available                   RTG-01   \n",
              "1   NaN  Available                   RTG-02   \n",
              "2   NaN  Available                   STS-02   \n",
              "3   NaN  Available                   STS-01   \n",
              "4   NaN  Available                   STS-02   \n",
              "\n",
              "0                                        Description Operation   \\\n",
              "0  ( Level 1 : 44600,375 ) / ( Level 2 : 44600,47...        NaN   \n",
              "1  ( Level 1 : SPREADER ) / ( Level 2 : LANDED_SY...        NaN   \n",
              "2  ( Level 1 : POWER_AND_CONTROL ) / ( Level 2 : ...        NaN   \n",
              "3  ( Level 1 : POWER_AND_CONTROL ) / ( Level 2 : ...        NaN   \n",
              "4  ( Level 1 : POWER_AND_CONTROL ) / ( Level 2 : ...        NaN   \n",
              "\n",
              "0 Work center / Performed By Outage\\nType         Manpower Name  \\\n",
              "0                        NaN          INS  Mokhtar  / Abdellahi   \n",
              "1                        NaN          BDN         Ahmed Elemine   \n",
              "2                        NaN           CM        Mohamed Mamoun   \n",
              "3                        NaN           CM         Mohamed Habib   \n",
              "4                        NaN          CMP        Mohamed Mamoun   \n",
              "\n",
              "0                Start                  End  ...  \\\n",
              "0  2022-02-08 09:00:00  2022-02-08 11:30:00  ...   \n",
              "1  2022-04-02 10:40:00  2022-04-02 11:20:00  ...   \n",
              "2  2022-04-04 07:30:00  2022-04-04 07:40:00  ...   \n",
              "3  2022-04-04 07:30:00  2022-04-04 07:40:00  ...   \n",
              "4  2022-04-04 07:30:00  2022-04-04 07:40:00  ...   \n",
              "\n",
              "0 Category: Activity/ Equipement Type: Activity/ Equipement  \\\n",
              "0                       Crane EQ  Rubber Tyred Gantry Crane   \n",
              "1                       Crane EQ  Rubber Tyred Gantry Crane   \n",
              "2                       Crane EQ              Ship To Shore   \n",
              "3                       Crane EQ              Ship To Shore   \n",
              "4                       Crane EQ              Ship To Shore   \n",
              "\n",
              "0 Family: Activity/ Equipement Week N° Month N°                          AREA  \\\n",
              "0                          RTG     W 6  février  Rubber Tyred Gantry Crane 04   \n",
              "1                          RTG    W 13    avril  Rubber Tyred Gantry Crane 05   \n",
              "2                          STS    W 14    avril                 Crane STS  02   \n",
              "3                          STS    W 14    avril                 Crane STS  02   \n",
              "4                          STS    W 14    avril                 Crane STS  02   \n",
              "\n",
              "0 Section              Day-DSR  Year Duration time Format hh:mm:ss  \n",
              "0   CRANE           08/02/2022  2022                       2:30:00  \n",
              "1   CRANE  2022-04-02 00:00:00  2022                       0:40:00  \n",
              "2   CRANE           04/04/2022  2022                       0:10:00  \n",
              "3   CRANE           04/04/2022  2022                       0:10:00  \n",
              "4   CRANE           04/04/2022  2022                       0:10:00  \n",
              "\n",
              "[5 rows x 29 columns]"
            ],
            "text/html": [
              "\n",
              "  <div id=\"df-9e3e2c0e-73d0-4d23-9a89-11ac37681bae\" class=\"colab-df-container\">\n",
              "    <div>\n",
              "<style scoped>\n",
              "    .dataframe tbody tr th:only-of-type {\n",
              "        vertical-align: middle;\n",
              "    }\n",
              "\n",
              "    .dataframe tbody tr th {\n",
              "        vertical-align: top;\n",
              "    }\n",
              "\n",
              "    .dataframe thead th {\n",
              "        text-align: right;\n",
              "    }\n",
              "</style>\n",
              "<table border=\"1\" class=\"dataframe\">\n",
              "  <thead>\n",
              "    <tr style=\"text-align: right;\">\n",
              "      <th></th>\n",
              "      <th>Sr.No</th>\n",
              "      <th>Eq status</th>\n",
              "      <th>ID: Activity/ Equipment</th>\n",
              "      <th>Description</th>\n",
              "      <th>Operation</th>\n",
              "      <th>Work center / Performed By</th>\n",
              "      <th>Outage\\nType</th>\n",
              "      <th>Manpower Name</th>\n",
              "      <th>Start</th>\n",
              "      <th>End</th>\n",
              "      <th>...</th>\n",
              "      <th>Category: Activity/ Equipement</th>\n",
              "      <th>Type: Activity/ Equipement</th>\n",
              "      <th>Family: Activity/ Equipement</th>\n",
              "      <th>Week N°</th>\n",
              "      <th>Month N°</th>\n",
              "      <th>AREA</th>\n",
              "      <th>Section</th>\n",
              "      <th>Day-DSR</th>\n",
              "      <th>Year</th>\n",
              "      <th>Duration time Format hh:mm:ss</th>\n",
              "    </tr>\n",
              "  </thead>\n",
              "  <tbody>\n",
              "    <tr>\n",
              "      <th>0</th>\n",
              "      <td>NaN</td>\n",
              "      <td>Available</td>\n",
              "      <td>RTG-01</td>\n",
              "      <td>( Level 1 : 44600,375 ) / ( Level 2 : 44600,47...</td>\n",
              "      <td>NaN</td>\n",
              "      <td>NaN</td>\n",
              "      <td>INS</td>\n",
              "      <td>Mokhtar  / Abdellahi</td>\n",
              "      <td>2022-02-08 09:00:00</td>\n",
              "      <td>2022-02-08 11:30:00</td>\n",
              "      <td>...</td>\n",
              "      <td>Crane EQ</td>\n",
              "      <td>Rubber Tyred Gantry Crane</td>\n",
              "      <td>RTG</td>\n",
              "      <td>W 6</td>\n",
              "      <td>février</td>\n",
              "      <td>Rubber Tyred Gantry Crane 04</td>\n",
              "      <td>CRANE</td>\n",
              "      <td>08/02/2022</td>\n",
              "      <td>2022</td>\n",
              "      <td>2:30:00</td>\n",
              "    </tr>\n",
              "    <tr>\n",
              "      <th>1</th>\n",
              "      <td>NaN</td>\n",
              "      <td>Available</td>\n",
              "      <td>RTG-02</td>\n",
              "      <td>( Level 1 : SPREADER ) / ( Level 2 : LANDED_SY...</td>\n",
              "      <td>NaN</td>\n",
              "      <td>NaN</td>\n",
              "      <td>BDN</td>\n",
              "      <td>Ahmed Elemine</td>\n",
              "      <td>2022-04-02 10:40:00</td>\n",
              "      <td>2022-04-02 11:20:00</td>\n",
              "      <td>...</td>\n",
              "      <td>Crane EQ</td>\n",
              "      <td>Rubber Tyred Gantry Crane</td>\n",
              "      <td>RTG</td>\n",
              "      <td>W 13</td>\n",
              "      <td>avril</td>\n",
              "      <td>Rubber Tyred Gantry Crane 05</td>\n",
              "      <td>CRANE</td>\n",
              "      <td>2022-04-02 00:00:00</td>\n",
              "      <td>2022</td>\n",
              "      <td>0:40:00</td>\n",
              "    </tr>\n",
              "    <tr>\n",
              "      <th>2</th>\n",
              "      <td>NaN</td>\n",
              "      <td>Available</td>\n",
              "      <td>STS-02</td>\n",
              "      <td>( Level 1 : POWER_AND_CONTROL ) / ( Level 2 : ...</td>\n",
              "      <td>NaN</td>\n",
              "      <td>NaN</td>\n",
              "      <td>CM</td>\n",
              "      <td>Mohamed Mamoun</td>\n",
              "      <td>2022-04-04 07:30:00</td>\n",
              "      <td>2022-04-04 07:40:00</td>\n",
              "      <td>...</td>\n",
              "      <td>Crane EQ</td>\n",
              "      <td>Ship To Shore</td>\n",
              "      <td>STS</td>\n",
              "      <td>W 14</td>\n",
              "      <td>avril</td>\n",
              "      <td>Crane STS  02</td>\n",
              "      <td>CRANE</td>\n",
              "      <td>04/04/2022</td>\n",
              "      <td>2022</td>\n",
              "      <td>0:10:00</td>\n",
              "    </tr>\n",
              "    <tr>\n",
              "      <th>3</th>\n",
              "      <td>NaN</td>\n",
              "      <td>Available</td>\n",
              "      <td>STS-01</td>\n",
              "      <td>( Level 1 : POWER_AND_CONTROL ) / ( Level 2 : ...</td>\n",
              "      <td>NaN</td>\n",
              "      <td>NaN</td>\n",
              "      <td>CM</td>\n",
              "      <td>Mohamed Habib</td>\n",
              "      <td>2022-04-04 07:30:00</td>\n",
              "      <td>2022-04-04 07:40:00</td>\n",
              "      <td>...</td>\n",
              "      <td>Crane EQ</td>\n",
              "      <td>Ship To Shore</td>\n",
              "      <td>STS</td>\n",
              "      <td>W 14</td>\n",
              "      <td>avril</td>\n",
              "      <td>Crane STS  02</td>\n",
              "      <td>CRANE</td>\n",
              "      <td>04/04/2022</td>\n",
              "      <td>2022</td>\n",
              "      <td>0:10:00</td>\n",
              "    </tr>\n",
              "    <tr>\n",
              "      <th>4</th>\n",
              "      <td>NaN</td>\n",
              "      <td>Available</td>\n",
              "      <td>STS-02</td>\n",
              "      <td>( Level 1 : POWER_AND_CONTROL ) / ( Level 2 : ...</td>\n",
              "      <td>NaN</td>\n",
              "      <td>NaN</td>\n",
              "      <td>CMP</td>\n",
              "      <td>Mohamed Mamoun</td>\n",
              "      <td>2022-04-04 07:30:00</td>\n",
              "      <td>2022-04-04 07:40:00</td>\n",
              "      <td>...</td>\n",
              "      <td>Crane EQ</td>\n",
              "      <td>Ship To Shore</td>\n",
              "      <td>STS</td>\n",
              "      <td>W 14</td>\n",
              "      <td>avril</td>\n",
              "      <td>Crane STS  02</td>\n",
              "      <td>CRANE</td>\n",
              "      <td>04/04/2022</td>\n",
              "      <td>2022</td>\n",
              "      <td>0:10:00</td>\n",
              "    </tr>\n",
              "  </tbody>\n",
              "</table>\n",
              "<p>5 rows × 29 columns</p>\n",
              "</div>\n",
              "    <div class=\"colab-df-buttons\">\n",
              "\n",
              "  <div class=\"colab-df-container\">\n",
              "    <button class=\"colab-df-convert\" onclick=\"convertToInteractive('df-9e3e2c0e-73d0-4d23-9a89-11ac37681bae')\"\n",
              "            title=\"Convert this dataframe to an interactive table.\"\n",
              "            style=\"display:none;\">\n",
              "\n",
              "  <svg xmlns=\"http://www.w3.org/2000/svg\" height=\"24px\" viewBox=\"0 -960 960 960\">\n",
              "    <path d=\"M120-120v-720h720v720H120Zm60-500h600v-160H180v160Zm220 220h160v-160H400v160Zm0 220h160v-160H400v160ZM180-400h160v-160H180v160Zm440 0h160v-160H620v160ZM180-180h160v-160H180v160Zm440 0h160v-160H620v160Z\"/>\n",
              "  </svg>\n",
              "    </button>\n",
              "\n",
              "  <style>\n",
              "    .colab-df-container {\n",
              "      display:flex;\n",
              "      gap: 12px;\n",
              "    }\n",
              "\n",
              "    .colab-df-convert {\n",
              "      background-color: #E8F0FE;\n",
              "      border: none;\n",
              "      border-radius: 50%;\n",
              "      cursor: pointer;\n",
              "      display: none;\n",
              "      fill: #1967D2;\n",
              "      height: 32px;\n",
              "      padding: 0 0 0 0;\n",
              "      width: 32px;\n",
              "    }\n",
              "\n",
              "    .colab-df-convert:hover {\n",
              "      background-color: #E2EBFA;\n",
              "      box-shadow: 0px 1px 2px rgba(60, 64, 67, 0.3), 0px 1px 3px 1px rgba(60, 64, 67, 0.15);\n",
              "      fill: #174EA6;\n",
              "    }\n",
              "\n",
              "    .colab-df-buttons div {\n",
              "      margin-bottom: 4px;\n",
              "    }\n",
              "\n",
              "    [theme=dark] .colab-df-convert {\n",
              "      background-color: #3B4455;\n",
              "      fill: #D2E3FC;\n",
              "    }\n",
              "\n",
              "    [theme=dark] .colab-df-convert:hover {\n",
              "      background-color: #434B5C;\n",
              "      box-shadow: 0px 1px 3px 1px rgba(0, 0, 0, 0.15);\n",
              "      filter: drop-shadow(0px 1px 2px rgba(0, 0, 0, 0.3));\n",
              "      fill: #FFFFFF;\n",
              "    }\n",
              "  </style>\n",
              "\n",
              "    <script>\n",
              "      const buttonEl =\n",
              "        document.querySelector('#df-9e3e2c0e-73d0-4d23-9a89-11ac37681bae button.colab-df-convert');\n",
              "      buttonEl.style.display =\n",
              "        google.colab.kernel.accessAllowed ? 'block' : 'none';\n",
              "\n",
              "      async function convertToInteractive(key) {\n",
              "        const element = document.querySelector('#df-9e3e2c0e-73d0-4d23-9a89-11ac37681bae');\n",
              "        const dataTable =\n",
              "          await google.colab.kernel.invokeFunction('convertToInteractive',\n",
              "                                                    [key], {});\n",
              "        if (!dataTable) return;\n",
              "\n",
              "        const docLinkHtml = 'Like what you see? Visit the ' +\n",
              "          '<a target=\"_blank\" href=https://colab.research.google.com/notebooks/data_table.ipynb>data table notebook</a>'\n",
              "          + ' to learn more about interactive tables.';\n",
              "        element.innerHTML = '';\n",
              "        dataTable['output_type'] = 'display_data';\n",
              "        await google.colab.output.renderOutput(dataTable, element);\n",
              "        const docLink = document.createElement('div');\n",
              "        docLink.innerHTML = docLinkHtml;\n",
              "        element.appendChild(docLink);\n",
              "      }\n",
              "    </script>\n",
              "  </div>\n",
              "\n",
              "\n",
              "<div id=\"df-f8382db8-613d-4284-91bc-4626a19db408\">\n",
              "  <button class=\"colab-df-quickchart\" onclick=\"quickchart('df-f8382db8-613d-4284-91bc-4626a19db408')\"\n",
              "            title=\"Suggest charts\"\n",
              "            style=\"display:none;\">\n",
              "\n",
              "<svg xmlns=\"http://www.w3.org/2000/svg\" height=\"24px\"viewBox=\"0 0 24 24\"\n",
              "     width=\"24px\">\n",
              "    <g>\n",
              "        <path d=\"M19 3H5c-1.1 0-2 .9-2 2v14c0 1.1.9 2 2 2h14c1.1 0 2-.9 2-2V5c0-1.1-.9-2-2-2zM9 17H7v-7h2v7zm4 0h-2V7h2v10zm4 0h-2v-4h2v4z\"/>\n",
              "    </g>\n",
              "</svg>\n",
              "  </button>\n",
              "\n",
              "<style>\n",
              "  .colab-df-quickchart {\n",
              "      --bg-color: #E8F0FE;\n",
              "      --fill-color: #1967D2;\n",
              "      --hover-bg-color: #E2EBFA;\n",
              "      --hover-fill-color: #174EA6;\n",
              "      --disabled-fill-color: #AAA;\n",
              "      --disabled-bg-color: #DDD;\n",
              "  }\n",
              "\n",
              "  [theme=dark] .colab-df-quickchart {\n",
              "      --bg-color: #3B4455;\n",
              "      --fill-color: #D2E3FC;\n",
              "      --hover-bg-color: #434B5C;\n",
              "      --hover-fill-color: #FFFFFF;\n",
              "      --disabled-bg-color: #3B4455;\n",
              "      --disabled-fill-color: #666;\n",
              "  }\n",
              "\n",
              "  .colab-df-quickchart {\n",
              "    background-color: var(--bg-color);\n",
              "    border: none;\n",
              "    border-radius: 50%;\n",
              "    cursor: pointer;\n",
              "    display: none;\n",
              "    fill: var(--fill-color);\n",
              "    height: 32px;\n",
              "    padding: 0;\n",
              "    width: 32px;\n",
              "  }\n",
              "\n",
              "  .colab-df-quickchart:hover {\n",
              "    background-color: var(--hover-bg-color);\n",
              "    box-shadow: 0 1px 2px rgba(60, 64, 67, 0.3), 0 1px 3px 1px rgba(60, 64, 67, 0.15);\n",
              "    fill: var(--button-hover-fill-color);\n",
              "  }\n",
              "\n",
              "  .colab-df-quickchart-complete:disabled,\n",
              "  .colab-df-quickchart-complete:disabled:hover {\n",
              "    background-color: var(--disabled-bg-color);\n",
              "    fill: var(--disabled-fill-color);\n",
              "    box-shadow: none;\n",
              "  }\n",
              "\n",
              "  .colab-df-spinner {\n",
              "    border: 2px solid var(--fill-color);\n",
              "    border-color: transparent;\n",
              "    border-bottom-color: var(--fill-color);\n",
              "    animation:\n",
              "      spin 1s steps(1) infinite;\n",
              "  }\n",
              "\n",
              "  @keyframes spin {\n",
              "    0% {\n",
              "      border-color: transparent;\n",
              "      border-bottom-color: var(--fill-color);\n",
              "      border-left-color: var(--fill-color);\n",
              "    }\n",
              "    20% {\n",
              "      border-color: transparent;\n",
              "      border-left-color: var(--fill-color);\n",
              "      border-top-color: var(--fill-color);\n",
              "    }\n",
              "    30% {\n",
              "      border-color: transparent;\n",
              "      border-left-color: var(--fill-color);\n",
              "      border-top-color: var(--fill-color);\n",
              "      border-right-color: var(--fill-color);\n",
              "    }\n",
              "    40% {\n",
              "      border-color: transparent;\n",
              "      border-right-color: var(--fill-color);\n",
              "      border-top-color: var(--fill-color);\n",
              "    }\n",
              "    60% {\n",
              "      border-color: transparent;\n",
              "      border-right-color: var(--fill-color);\n",
              "    }\n",
              "    80% {\n",
              "      border-color: transparent;\n",
              "      border-right-color: var(--fill-color);\n",
              "      border-bottom-color: var(--fill-color);\n",
              "    }\n",
              "    90% {\n",
              "      border-color: transparent;\n",
              "      border-bottom-color: var(--fill-color);\n",
              "    }\n",
              "  }\n",
              "</style>\n",
              "\n",
              "  <script>\n",
              "    async function quickchart(key) {\n",
              "      const quickchartButtonEl =\n",
              "        document.querySelector('#' + key + ' button');\n",
              "      quickchartButtonEl.disabled = true;  // To prevent multiple clicks.\n",
              "      quickchartButtonEl.classList.add('colab-df-spinner');\n",
              "      try {\n",
              "        const charts = await google.colab.kernel.invokeFunction(\n",
              "            'suggestCharts', [key], {});\n",
              "      } catch (error) {\n",
              "        console.error('Error during call to suggestCharts:', error);\n",
              "      }\n",
              "      quickchartButtonEl.classList.remove('colab-df-spinner');\n",
              "      quickchartButtonEl.classList.add('colab-df-quickchart-complete');\n",
              "    }\n",
              "    (() => {\n",
              "      let quickchartButtonEl =\n",
              "        document.querySelector('#df-f8382db8-613d-4284-91bc-4626a19db408 button');\n",
              "      quickchartButtonEl.style.display =\n",
              "        google.colab.kernel.accessAllowed ? 'block' : 'none';\n",
              "    })();\n",
              "  </script>\n",
              "</div>\n",
              "\n",
              "    </div>\n",
              "  </div>\n"
            ],
            "application/vnd.google.colaboratory.intrinsic+json": {
              "type": "dataframe",
              "variable_name": "df_cleaned"
            }
          },
          "metadata": {},
          "execution_count": 1
        }
      ]
    },
    {
      "cell_type": "code",
      "source": [
        "df_cleaned.dtypes"
      ],
      "metadata": {
        "colab": {
          "base_uri": "https://localhost:8080/",
          "height": 1000
        },
        "id": "6cI8bSlsh1KQ",
        "outputId": "bf70e321-0e3f-409a-ed94-55ad8b7fff34"
      },
      "execution_count": null,
      "outputs": [
        {
          "output_type": "execute_result",
          "data": {
            "text/plain": [
              "0\n",
              "Sr.No                             object\n",
              "Eq status                         object\n",
              "ID: Activity/ Equipment           object\n",
              "Description                       object\n",
              "Operation                         object\n",
              "Work center / Performed By        object\n",
              "Outage\\nType                      object\n",
              "Manpower Name                     object\n",
              "Start                             object\n",
              "End                               object\n",
              "Duration                          object\n",
              "No. of Manpower                   object\n",
              "Total \\nMan Hours                 object\n",
              "Status                            object\n",
              "WO / Notification N°              object\n",
              "Supervisor                        object\n",
              "Shift                             object\n",
              "WCR                               object\n",
              "Completion                        object\n",
              "Category: Activity/ Equipement    object\n",
              "Type: Activity/ Equipement        object\n",
              "Family: Activity/ Equipement      object\n",
              "Week N°                           object\n",
              "Month N°                          object\n",
              "AREA                              object\n",
              "Section                           object\n",
              "Day-DSR                           object\n",
              "Year                              object\n",
              "Duration time Format hh:mm:ss     object\n",
              "dtype: object"
            ],
            "text/html": [
              "<div>\n",
              "<style scoped>\n",
              "    .dataframe tbody tr th:only-of-type {\n",
              "        vertical-align: middle;\n",
              "    }\n",
              "\n",
              "    .dataframe tbody tr th {\n",
              "        vertical-align: top;\n",
              "    }\n",
              "\n",
              "    .dataframe thead th {\n",
              "        text-align: right;\n",
              "    }\n",
              "</style>\n",
              "<table border=\"1\" class=\"dataframe\">\n",
              "  <thead>\n",
              "    <tr style=\"text-align: right;\">\n",
              "      <th></th>\n",
              "      <th>0</th>\n",
              "    </tr>\n",
              "    <tr>\n",
              "      <th>0</th>\n",
              "      <th></th>\n",
              "    </tr>\n",
              "  </thead>\n",
              "  <tbody>\n",
              "    <tr>\n",
              "      <th>Sr.No</th>\n",
              "      <td>object</td>\n",
              "    </tr>\n",
              "    <tr>\n",
              "      <th>Eq status</th>\n",
              "      <td>object</td>\n",
              "    </tr>\n",
              "    <tr>\n",
              "      <th>ID: Activity/ Equipment</th>\n",
              "      <td>object</td>\n",
              "    </tr>\n",
              "    <tr>\n",
              "      <th>Description</th>\n",
              "      <td>object</td>\n",
              "    </tr>\n",
              "    <tr>\n",
              "      <th>Operation</th>\n",
              "      <td>object</td>\n",
              "    </tr>\n",
              "    <tr>\n",
              "      <th>Work center / Performed By</th>\n",
              "      <td>object</td>\n",
              "    </tr>\n",
              "    <tr>\n",
              "      <th>Outage\\nType</th>\n",
              "      <td>object</td>\n",
              "    </tr>\n",
              "    <tr>\n",
              "      <th>Manpower Name</th>\n",
              "      <td>object</td>\n",
              "    </tr>\n",
              "    <tr>\n",
              "      <th>Start</th>\n",
              "      <td>object</td>\n",
              "    </tr>\n",
              "    <tr>\n",
              "      <th>End</th>\n",
              "      <td>object</td>\n",
              "    </tr>\n",
              "    <tr>\n",
              "      <th>Duration</th>\n",
              "      <td>object</td>\n",
              "    </tr>\n",
              "    <tr>\n",
              "      <th>No. of Manpower</th>\n",
              "      <td>object</td>\n",
              "    </tr>\n",
              "    <tr>\n",
              "      <th>Total \\nMan Hours</th>\n",
              "      <td>object</td>\n",
              "    </tr>\n",
              "    <tr>\n",
              "      <th>Status</th>\n",
              "      <td>object</td>\n",
              "    </tr>\n",
              "    <tr>\n",
              "      <th>WO / Notification N°</th>\n",
              "      <td>object</td>\n",
              "    </tr>\n",
              "    <tr>\n",
              "      <th>Supervisor</th>\n",
              "      <td>object</td>\n",
              "    </tr>\n",
              "    <tr>\n",
              "      <th>Shift</th>\n",
              "      <td>object</td>\n",
              "    </tr>\n",
              "    <tr>\n",
              "      <th>WCR</th>\n",
              "      <td>object</td>\n",
              "    </tr>\n",
              "    <tr>\n",
              "      <th>Completion</th>\n",
              "      <td>object</td>\n",
              "    </tr>\n",
              "    <tr>\n",
              "      <th>Category: Activity/ Equipement</th>\n",
              "      <td>object</td>\n",
              "    </tr>\n",
              "    <tr>\n",
              "      <th>Type: Activity/ Equipement</th>\n",
              "      <td>object</td>\n",
              "    </tr>\n",
              "    <tr>\n",
              "      <th>Family: Activity/ Equipement</th>\n",
              "      <td>object</td>\n",
              "    </tr>\n",
              "    <tr>\n",
              "      <th>Week N°</th>\n",
              "      <td>object</td>\n",
              "    </tr>\n",
              "    <tr>\n",
              "      <th>Month N°</th>\n",
              "      <td>object</td>\n",
              "    </tr>\n",
              "    <tr>\n",
              "      <th>AREA</th>\n",
              "      <td>object</td>\n",
              "    </tr>\n",
              "    <tr>\n",
              "      <th>Section</th>\n",
              "      <td>object</td>\n",
              "    </tr>\n",
              "    <tr>\n",
              "      <th>Day-DSR</th>\n",
              "      <td>object</td>\n",
              "    </tr>\n",
              "    <tr>\n",
              "      <th>Year</th>\n",
              "      <td>object</td>\n",
              "    </tr>\n",
              "    <tr>\n",
              "      <th>Duration time Format hh:mm:ss</th>\n",
              "      <td>object</td>\n",
              "    </tr>\n",
              "  </tbody>\n",
              "</table>\n",
              "</div><br><label><b>dtype:</b> object</label>"
            ]
          },
          "metadata": {},
          "execution_count": 2
        }
      ]
    },
    {
      "cell_type": "code",
      "source": [
        "\n",
        "df_cleaned['Duration time Format hh:mm:ss'] = pd.to_timedelta(df_cleaned['Duration time Format hh:mm:ss'], errors='coerce')\n",
        "df_cleaned['Duration in Minutes'] = df_cleaned['Duration time Format hh:mm:ss'].dt.total_seconds() / 60\n"
      ],
      "metadata": {
        "id": "7bDC5QmLi082"
      },
      "execution_count": null,
      "outputs": []
    },
    {
      "cell_type": "code",
      "source": [
        "rows, cols = df_cleaned.shape\n",
        "print(f\"📊 Nombre de lignes : {rows}\")\n",
        "print(f\"📊 Nombre de colonnes : {cols}\")\n"
      ],
      "metadata": {
        "colab": {
          "base_uri": "https://localhost:8080/"
        },
        "id": "q1ZTv2b4blPc",
        "outputId": "a9e785bd-95db-4b77-f48f-9cde2382c111"
      },
      "execution_count": null,
      "outputs": [
        {
          "output_type": "stream",
          "name": "stdout",
          "text": [
            "📊 Nombre de lignes : 13709\n",
            "📊 Nombre de colonnes : 30\n"
          ]
        }
      ]
    },
    {
      "cell_type": "code",
      "source": [
        "df_cleaned = df_cleaned.drop(columns=[\"Sr.No\"])\n",
        "df_cleaned .columns"
      ],
      "metadata": {
        "colab": {
          "base_uri": "https://localhost:8080/"
        },
        "id": "qEW3VHaeaoZ7",
        "outputId": "961e911b-fcad-4d9e-e409-f55c29a452d6"
      },
      "execution_count": null,
      "outputs": [
        {
          "output_type": "execute_result",
          "data": {
            "text/plain": [
              "Index(['Eq status', 'ID: Activity/ Equipment ', 'Description', 'Operation ',\n",
              "       'Work center / Performed By', 'Outage\\nType', 'Manpower Name', 'Start',\n",
              "       'End', 'Duration', 'No. of Manpower', 'Total \\nMan Hours', 'Status',\n",
              "       'WO / Notification N°', 'Supervisor', 'Shift', 'WCR', 'Completion',\n",
              "       'Category: Activity/ Equipement', 'Type: Activity/ Equipement',\n",
              "       'Family: Activity/ Equipement', 'Week N°', 'Month N°', 'AREA',\n",
              "       'Section', 'Day-DSR', 'Year', 'Duration time Format hh:mm:ss',\n",
              "       'Duration in Minutes'],\n",
              "      dtype='object', name=0)"
            ]
          },
          "metadata": {},
          "execution_count": 5
        }
      ]
    },
    {
      "cell_type": "code",
      "source": [
        "nan_percentage = (df_cleaned.isna().sum() / len(df_cleaned)) * 100\n",
        "print(nan_percentage)\n"
      ],
      "metadata": {
        "colab": {
          "base_uri": "https://localhost:8080/"
        },
        "id": "rs_glEbocHHV",
        "outputId": "7b7508f9-7bac-499f-ee50-18c258fd8674"
      },
      "execution_count": null,
      "outputs": [
        {
          "output_type": "stream",
          "name": "stdout",
          "text": [
            "0\n",
            "Eq status                          37.216427\n",
            "ID: Activity/ Equipment            42.679991\n",
            "Description                         0.255307\n",
            "Operation                          32.526078\n",
            "Work center / Performed By         21.868845\n",
            "Outage\\nType                        0.554380\n",
            "Manpower Name                       0.415785\n",
            "Start                               0.000000\n",
            "End                                 0.094828\n",
            "Duration                            0.094828\n",
            "No. of Manpower                     0.488730\n",
            "Total \\nMan Hours                   0.547086\n",
            "Status                              0.853454\n",
            "WO / Notification N°               35.990955\n",
            "Supervisor                         15.303815\n",
            "Shift                              15.799840\n",
            "WCR                               100.000000\n",
            "Completion                         99.985411\n",
            "Category: Activity/ Equipement      0.000000\n",
            "Type: Activity/ Equipement          0.000000\n",
            "Family: Activity/ Equipement        0.000000\n",
            "Week N°                             0.000000\n",
            "Month N°                            0.000000\n",
            "AREA                                0.000000\n",
            "Section                             0.000000\n",
            "Day-DSR                             0.000000\n",
            "Year                                0.000000\n",
            "Duration time Format hh:mm:ss       0.094828\n",
            "Duration in Minutes                 0.094828\n",
            "dtype: float64\n"
          ]
        }
      ]
    },
    {
      "cell_type": "markdown",
      "source": [
        "#2.Data processing"
      ],
      "metadata": {
        "id": "lGYaaAKEvdqn"
      }
    },
    {
      "cell_type": "code",
      "source": [
        "colonnes_a_supprimer = [\n",
        "    \"End\",\n",
        "    \"Duration\",\n",
        "    \"No. of Manpower\",\n",
        "    \"Total \\nMan Hours\",\n",
        "    \"Status\",\n",
        "    \"Description\",\n",
        "    \"Outage\\nType\",\n",
        "    \"Manpower Name\"\n",
        "]\n",
        "\n",
        "df_cleaned = df_cleaned.dropna(subset=colonnes_a_supprimer)\n",
        "\n",
        "print(df_cleaned.isna().sum())\n"
      ],
      "metadata": {
        "colab": {
          "base_uri": "https://localhost:8080/"
        },
        "id": "IwTFNvO2oQC0",
        "outputId": "4e8a58e6-4223-4128-9418-fee266c6ed9b"
      },
      "execution_count": null,
      "outputs": [
        {
          "output_type": "stream",
          "name": "stdout",
          "text": [
            "0\n",
            "Eq status                          4949\n",
            "ID: Activity/ Equipment            5757\n",
            "Description                           0\n",
            "Operation                          4213\n",
            "Work center / Performed By         2784\n",
            "Outage\\nType                          0\n",
            "Manpower Name                         0\n",
            "Start                                 0\n",
            "End                                   0\n",
            "Duration                              0\n",
            "No. of Manpower                       0\n",
            "Total \\nMan Hours                     0\n",
            "Status                                0\n",
            "WO / Notification N°               4754\n",
            "Supervisor                         1882\n",
            "Shift                              1952\n",
            "WCR                               13420\n",
            "Completion                        13420\n",
            "Category: Activity/ Equipement        0\n",
            "Type: Activity/ Equipement            0\n",
            "Family: Activity/ Equipement          0\n",
            "Week N°                               0\n",
            "Month N°                              0\n",
            "AREA                                  0\n",
            "Section                               0\n",
            "Day-DSR                               0\n",
            "Year                                  0\n",
            "Duration time Format hh:mm:ss         0\n",
            "Duration in Minutes                   0\n",
            "dtype: int64\n"
          ]
        }
      ]
    },
    {
      "cell_type": "code",
      "source": [
        "len(df_cleaned)"
      ],
      "metadata": {
        "colab": {
          "base_uri": "https://localhost:8080/"
        },
        "id": "CEfA9hpcqkUw",
        "outputId": "5af6b839-bcce-41b8-b126-bac0eb28fb63"
      },
      "execution_count": null,
      "outputs": [
        {
          "output_type": "execute_result",
          "data": {
            "text/plain": [
              "13420"
            ]
          },
          "metadata": {},
          "execution_count": 8
        }
      ]
    },
    {
      "cell_type": "code",
      "source": [
        "\n",
        "print(\" Nombre de valeurs uniques par colonne :\\n\")\n",
        "for col in df_cleaned.columns:\n",
        "    valeurs_uniques = df_cleaned[col].nunique(dropna=True)\n",
        "    print(f\"✅ {col}: {valeurs_uniques} valeurs uniques\")"
      ],
      "metadata": {
        "colab": {
          "base_uri": "https://localhost:8080/"
        },
        "id": "ooK_7zG9ZnPo",
        "outputId": "d94a3979-c7fc-4adf-e763-5768e05d738f"
      },
      "execution_count": null,
      "outputs": [
        {
          "output_type": "stream",
          "name": "stdout",
          "text": [
            " Nombre de valeurs uniques par colonne :\n",
            "\n",
            "✅ Eq status: 13 valeurs uniques\n",
            "✅ ID: Activity/ Equipment : 42 valeurs uniques\n",
            "✅ Description: 4616 valeurs uniques\n",
            "✅ Operation : 3043 valeurs uniques\n",
            "✅ Work center / Performed By: 5 valeurs uniques\n",
            "✅ Outage\n",
            "Type: 32 valeurs uniques\n",
            "✅ Manpower Name: 2756 valeurs uniques\n",
            "✅ Start: 8177 valeurs uniques\n",
            "✅ End: 8422 valeurs uniques\n",
            "✅ Duration: 313 valeurs uniques\n",
            "✅ No. of Manpower: 11 valeurs uniques\n",
            "✅ Total \n",
            "Man Hours: 553 valeurs uniques\n",
            "✅ Status: 9 valeurs uniques\n",
            "✅ WO / Notification N°: 4440 valeurs uniques\n",
            "✅ Supervisor: 24 valeurs uniques\n",
            "✅ Shift: 6 valeurs uniques\n",
            "✅ WCR: 0 valeurs uniques\n",
            "✅ Completion: 0 valeurs uniques\n",
            "✅ Category: Activity/ Equipement: 5 valeurs uniques\n",
            "✅ Type: Activity/ Equipement: 10 valeurs uniques\n",
            "✅ Family: Activity/ Equipement: 12 valeurs uniques\n",
            "✅ Week N°: 52 valeurs uniques\n",
            "✅ Month N°: 12 valeurs uniques\n",
            "✅ AREA: 19 valeurs uniques\n",
            "✅ Section: 4 valeurs uniques\n",
            "✅ Day-DSR: 1044 valeurs uniques\n",
            "✅ Year: 4 valeurs uniques\n",
            "✅ Duration time Format hh:mm:ss: 228 valeurs uniques\n",
            "✅ Duration in Minutes: 228 valeurs uniques\n"
          ]
        }
      ]
    },
    {
      "cell_type": "code",
      "source": [
        "print(\"Eq status:\", df_cleaned[\"Eq status\"].nunique(), \"valeurs uniques\")\n",
        "print(df_cleaned[\"Eq status\"].unique())\n"
      ],
      "metadata": {
        "colab": {
          "base_uri": "https://localhost:8080/"
        },
        "id": "IGm1tt28g96G",
        "outputId": "ad91b274-1e15-4b36-9adc-7825d7041907"
      },
      "execution_count": null,
      "outputs": [
        {
          "output_type": "stream",
          "name": "stdout",
          "text": [
            "Eq status: 13 valeurs uniques\n",
            "['Available' nan 'Out of order' 'Out Of Order' 'available' 'out of order'\n",
            " 'Available ' 'out of order ' 'Out of Order' 'Not Available'\n",
            " 'Out of order ' 'Maintenance' 'Support' 'Out Of Service']\n"
          ]
        }
      ]
    },
    {
      "cell_type": "code",
      "source": [
        "mapping = {\n",
        "    'available': 'Available',\n",
        "    'available ': 'Available',\n",
        "    'out of order': 'Out Of Order',\n",
        "    'out of order ': 'Out Of Order',\n",
        "    'Out of Order': 'Out Of Order',\n",
        "    'Out Of Order': 'Out Of Order',\n",
        "    'Out of order ': 'Out Of Order',\n",
        "    'Out Of Service': 'Out Of Service',\n",
        "\n",
        "\n",
        "}\n",
        "df_cleaned[\"Eq status\"] = df_cleaned[\"Eq status\"].str.strip().str.lower().replace(mapping)\n",
        "\n",
        "df_cleaned[\"Eq status\"] = df_cleaned[\"Eq status\"].str.title()\n",
        "\n",
        "print(\"Eq status:\", df_cleaned[\"Eq status\"].nunique(), \"valeurs uniques\")\n",
        "print(df_cleaned[\"Eq status\"].unique())\n"
      ],
      "metadata": {
        "colab": {
          "base_uri": "https://localhost:8080/"
        },
        "id": "8LUV_MrKsNQ0",
        "outputId": "3df22397-ddda-4def-8c17-210fc58099ea"
      },
      "execution_count": null,
      "outputs": [
        {
          "output_type": "stream",
          "name": "stdout",
          "text": [
            "Eq status: 6 valeurs uniques\n",
            "['Available' nan 'Out Of Order' 'Not Available' 'Maintenance' 'Support'\n",
            " 'Out Of Service']\n"
          ]
        },
        {
          "output_type": "stream",
          "name": "stderr",
          "text": [
            "<ipython-input-11-cb8de459d8a8>:13: SettingWithCopyWarning: \n",
            "A value is trying to be set on a copy of a slice from a DataFrame.\n",
            "Try using .loc[row_indexer,col_indexer] = value instead\n",
            "\n",
            "See the caveats in the documentation: https://pandas.pydata.org/pandas-docs/stable/user_guide/indexing.html#returning-a-view-versus-a-copy\n",
            "  df_cleaned[\"Eq status\"] = df_cleaned[\"Eq status\"].str.strip().str.lower().replace(mapping)\n",
            "<ipython-input-11-cb8de459d8a8>:15: SettingWithCopyWarning: \n",
            "A value is trying to be set on a copy of a slice from a DataFrame.\n",
            "Try using .loc[row_indexer,col_indexer] = value instead\n",
            "\n",
            "See the caveats in the documentation: https://pandas.pydata.org/pandas-docs/stable/user_guide/indexing.html#returning-a-view-versus-a-copy\n",
            "  df_cleaned[\"Eq status\"] = df_cleaned[\"Eq status\"].str.title()\n"
          ]
        }
      ]
    },
    {
      "cell_type": "code",
      "source": [
        "out_of_order_count = df_cleaned[\"Eq status\"].value_counts().get(\"Out Of Order\", 0)\n",
        "out_of_service_count = df_cleaned[\"Eq status\"].value_counts().get(\"Out Of Service\", 0)\n",
        "\n",
        "pourcentage_Out_Of_Order = (out_of_order_count / len(df_cleaned[\"Eq status\"])) * 100\n",
        "pourcentage_out_of_service = (out_of_service_count / len(df_cleaned[\"Eq status\"])) * 100\n",
        "\n",
        "print(f\"Pourcentage de 'Out Of Order' : {pourcentage_Out_Of_Order:.2f}%\")\n",
        "print(f\"Pourcentage de 'Out Of Service' : {pourcentage_out_of_service:.2f}%\")\n"
      ],
      "metadata": {
        "colab": {
          "base_uri": "https://localhost:8080/"
        },
        "id": "TWHbHW0j1VUz",
        "outputId": "42a114e0-c7d9-4364-9dab-9fd45b7b04f2"
      },
      "execution_count": null,
      "outputs": [
        {
          "output_type": "stream",
          "name": "stdout",
          "text": [
            "Pourcentage de 'Out Of Order' : 17.79%\n",
            "Pourcentage de 'Out Of Service' : 0.31%\n"
          ]
        }
      ]
    },
    {
      "cell_type": "code",
      "source": [
        "import numpy as np\n",
        "df_cleaned[\"Eq status\"] = df_cleaned[\"Eq status\"].str.strip()\n",
        "mask = df_cleaned[\"Eq status\"] == \"Not Available\"\n",
        "freq = df_cleaned[\"Eq status\"].value_counts(normalize=True)\n",
        "out_of_order_pct = 17.79 / 100\n",
        "out_of_service_pct = 0.31 / 100\n",
        "total_pct = out_of_order_pct + out_of_service_pct\n",
        "p = [out_of_order_pct / total_pct, out_of_service_pct / total_pct]\n",
        "df_cleaned.loc[mask, \"Eq status\"] = np.random.choice([\"Out Of Order\", \"Out Of Service\"], size=mask.sum(), p=p)\n",
        "print(\"Valeurs uniques finales :\", df_cleaned[\"Eq status\"].unique())\n",
        "print(\"Nombre d'occurrences après remplacement :\\n\", df_cleaned[\"Eq status\"].value_counts())\n"
      ],
      "metadata": {
        "colab": {
          "base_uri": "https://localhost:8080/"
        },
        "id": "z_Z0yN0xwZ9L",
        "outputId": "abe6cd78-c26a-4532-9932-e7cbebfb92d2"
      },
      "execution_count": null,
      "outputs": [
        {
          "output_type": "stream",
          "name": "stdout",
          "text": [
            "Valeurs uniques finales : ['Available' nan 'Out Of Order' 'Out Of Service' 'Maintenance' 'Support']\n",
            "Nombre d'occurrences après remplacement :\n",
            " Eq status\n",
            "Available         5943\n",
            "Out Of Order      2477\n",
            "Out Of Service      43\n",
            "Maintenance          5\n",
            "Support              3\n",
            "Name: count, dtype: int64\n"
          ]
        },
        {
          "output_type": "stream",
          "name": "stderr",
          "text": [
            "<ipython-input-13-5f7531cbee1f>:2: SettingWithCopyWarning: \n",
            "A value is trying to be set on a copy of a slice from a DataFrame.\n",
            "Try using .loc[row_indexer,col_indexer] = value instead\n",
            "\n",
            "See the caveats in the documentation: https://pandas.pydata.org/pandas-docs/stable/user_guide/indexing.html#returning-a-view-versus-a-copy\n",
            "  df_cleaned[\"Eq status\"] = df_cleaned[\"Eq status\"].str.strip()\n"
          ]
        }
      ]
    },
    {
      "cell_type": "code",
      "source": [
        "df_cleaned = df_cleaned[~df_cleaned[\"Eq status\"].isin([\"Maintenance\", \"Support\"])]\n",
        "\n",
        "print(\"Valeurs uniques après suppression :\", df_cleaned[\"Eq status\"].unique())\n",
        "print(\"Nombre d'occurrences après suppression :\\n\", df_cleaned[\"Eq status\"].value_counts())\n"
      ],
      "metadata": {
        "colab": {
          "base_uri": "https://localhost:8080/"
        },
        "id": "tj57DNPX4TUg",
        "outputId": "5cd23216-79c9-4f92-fabd-e0b299d01ba9"
      },
      "execution_count": null,
      "outputs": [
        {
          "output_type": "stream",
          "name": "stdout",
          "text": [
            "Valeurs uniques après suppression : ['Available' nan 'Out Of Order' 'Out Of Service']\n",
            "Nombre d'occurrences après suppression :\n",
            " Eq status\n",
            "Available         5943\n",
            "Out Of Order      2477\n",
            "Out Of Service      43\n",
            "Name: count, dtype: int64\n"
          ]
        }
      ]
    },
    {
      "cell_type": "code",
      "source": [
        "nan_count = df_cleaned[\"Eq status\"].isna().sum()\n",
        "print(\"Nombre de NaN dans 'Eq status' :\", nan_count)\n"
      ],
      "metadata": {
        "colab": {
          "base_uri": "https://localhost:8080/"
        },
        "id": "SfOBzV0u40Bk",
        "outputId": "1bb228db-79a6-4951-a686-0a7a8b029146"
      },
      "execution_count": null,
      "outputs": [
        {
          "output_type": "stream",
          "name": "stdout",
          "text": [
            "Nombre de NaN dans 'Eq status' : 4949\n"
          ]
        }
      ]
    },
    {
      "cell_type": "markdown",
      "source": [
        "Imputation colonne Eq status"
      ],
      "metadata": {
        "id": "TsslYIzGHPE-"
      }
    },
    {
      "cell_type": "code",
      "source": [],
      "metadata": {
        "id": "FVe88W1r5KM2"
      },
      "execution_count": null,
      "outputs": []
    },
    {
      "cell_type": "code",
      "source": [],
      "metadata": {
        "id": "FOkt0Xv2Ae5x"
      },
      "execution_count": null,
      "outputs": []
    },
    {
      "cell_type": "code",
      "source": [
        "print(\"status:\", df_cleaned['Status'].nunique(), \"valeurs uniques\")\n",
        "print(\"Valeurs uniques dans 'status':\", df_cleaned['Status'].unique())\n"
      ],
      "metadata": {
        "colab": {
          "base_uri": "https://localhost:8080/"
        },
        "id": "z5tvX9uT5p1I",
        "outputId": "b29fef26-9eff-4c8f-b4ca-dfd5685fe692"
      },
      "execution_count": null,
      "outputs": [
        {
          "output_type": "stream",
          "name": "stdout",
          "text": [
            "status: 9 valeurs uniques\n",
            "Valeurs uniques dans 'status': ['Closed' 'Active' 'ACtive' 'Closed ' 'Canceled' 'closed' 'closed '\n",
            " 'Active ' 'CLOSED']\n"
          ]
        }
      ]
    },
    {
      "cell_type": "code",
      "source": [
        "df_cleaned['Status'] = df_cleaned['Status'].replace({\n",
        "    'closed': 'Closed',\n",
        "    'closed ': 'Closed',\n",
        "    'CLOSED': 'Closed',\n",
        "    'Active': 'Active',\n",
        "    'ACtive': 'Active',\n",
        "    'active': 'Active',\n",
        "    'Closed ': 'Closed',\n",
        "    'Active ' : 'Active'\n",
        "})"
      ],
      "metadata": {
        "id": "5GYYfBJP5UA4"
      },
      "execution_count": null,
      "outputs": []
    },
    {
      "cell_type": "code",
      "source": [
        "print(\"status:\", df_cleaned['Status'].nunique(), \"valeurs uniques\")\n",
        "print(\"Valeurs uniques dans 'status':\", df_cleaned['Status'].unique())\n"
      ],
      "metadata": {
        "colab": {
          "base_uri": "https://localhost:8080/"
        },
        "id": "mOYIBo6H6V10",
        "outputId": "9b6af81f-dcf9-4f7d-ea2b-242fd3a1401c"
      },
      "execution_count": null,
      "outputs": [
        {
          "output_type": "stream",
          "name": "stdout",
          "text": [
            "status: 3 valeurs uniques\n",
            "Valeurs uniques dans 'status': ['Closed' 'Active' 'Canceled']\n"
          ]
        }
      ]
    },
    {
      "cell_type": "code",
      "source": [],
      "metadata": {
        "id": "Zudp0Um6_iuU"
      },
      "execution_count": null,
      "outputs": []
    },
    {
      "cell_type": "code",
      "source": [
        "print(\"ID: Activity/ Equipment :\", df_cleaned[\"ID: Activity/ Equipment \"].nunique(), \"valeurs uniques\")\n",
        "print(df_cleaned[\"ID: Activity/ Equipment \"].unique())\n"
      ],
      "metadata": {
        "colab": {
          "base_uri": "https://localhost:8080/"
        },
        "id": "EOeau6MB_k8x",
        "outputId": "1f3a0d39-2a2d-4f65-84b3-18d594e95c83"
      },
      "execution_count": null,
      "outputs": [
        {
          "output_type": "stream",
          "name": "stdout",
          "text": [
            "ID: Activity/ Equipment : 42 valeurs uniques\n",
            "['RTG-01' 'RTG-02' 'STS-02' 'STS-01' 'RTG-04' 'RTG-03' nan 'RTG'\n",
            " 'STS / RTG' 'RSP-01' 'RSP-02' 'RSP-03' 'PST-04' '--------' ' ' 'SSP03-B'\n",
            " 'SSP04-Z' 'SSP01-B' 'SSP02-B' 'STS' 'Substation ' 'CCB' 'ECH' 'TT'\n",
            " 'RTGDG-01' 'RTG-02 - RTG-04' 'RSP-05' 'RSP-04' 'Quay Area' 'Yard Area'\n",
            " 'Quay area' 'Yard area' 'yard area' 'sts' 'Quay area ' 'EDG' 'Yard area '\n",
            " 'OHF-01' 'GENERAL' 'General ' 'RTG-01, RTG-02, RTG-03, RTG-04'\n",
            " 'STS-01, STS-02' 'Other']\n"
          ]
        }
      ]
    },
    {
      "cell_type": "code",
      "source": [
        "df_cleaned[\"ID: Activity/ Equipment \"] = df_cleaned[\"ID: Activity/ Equipment \"].replace({\n",
        "    'Quay Area': 'QUAY AREA',\n",
        "    'Yard Area': 'YARD AREA',\n",
        "    'Quay area': 'QUAY AREA',\n",
        "    'Yard area': 'YARD AREA',\n",
        "    'yard area': 'YARD AREA',\n",
        "    'Quay area ': 'QUAY AREA',\n",
        "    'Yard area ': 'YARD AREA',\n",
        "    'Substation ': 'SUBSTATION',\n",
        "    'General ': 'GENERAL',\n",
        "})\n",
        "df_cleaned[\"ID: Activity/ Equipment \"] = df_cleaned[\"ID: Activity/ Equipment \"].str.strip()\n",
        "\n",
        "df_cleaned[\"ID: Activity/ Equipment \"] = df_cleaned[\"ID: Activity/ Equipment \"].replace(\"--------\", None)\n",
        "df_cleaned = df_cleaned[df_cleaned[\"ID: Activity/ Equipment \"] != \"--------\"]\n",
        "\n",
        "print(\"ID: Activity/ Equipment :\", df_cleaned[\"ID: Activity/ Equipment \"].nunique(), \"valeurs uniques\")\n",
        "print(df_cleaned[\"ID: Activity/ Equipment \"].unique())\n"
      ],
      "metadata": {
        "colab": {
          "base_uri": "https://localhost:8080/"
        },
        "id": "aZwicRWC_lXH",
        "outputId": "cd336884-40a0-4957-c5df-64b921270d96"
      },
      "execution_count": null,
      "outputs": [
        {
          "output_type": "stream",
          "name": "stdout",
          "text": [
            "ID: Activity/ Equipment : 35 valeurs uniques\n",
            "['RTG-01' 'RTG-02' 'STS-02' 'STS-01' 'RTG-04' 'RTG-03' nan 'RTG'\n",
            " 'STS / RTG' 'RSP-01' 'RSP-02' 'RSP-03' 'PST-04' None '' 'SSP03-B'\n",
            " 'SSP04-Z' 'SSP01-B' 'SSP02-B' 'STS' 'SUBSTATION' 'CCB' 'ECH' 'TT'\n",
            " 'RTGDG-01' 'RTG-02 - RTG-04' 'RSP-05' 'RSP-04' 'QUAY AREA' 'YARD AREA'\n",
            " 'sts' 'EDG' 'OHF-01' 'GENERAL' 'RTG-01, RTG-02, RTG-03, RTG-04'\n",
            " 'STS-01, STS-02' 'Other']\n"
          ]
        }
      ]
    },
    {
      "cell_type": "code",
      "source": [
        "nan_count = df_cleaned[\"ID: Activity/ Equipment \"].isna().sum()\n",
        "print(\"Nombre de NaN dans ' ID: Activity/ Equipment ' :\", nan_count)\n"
      ],
      "metadata": {
        "colab": {
          "base_uri": "https://localhost:8080/"
        },
        "id": "1n-jex4v_mRS",
        "outputId": "67ee0be9-cbd1-483d-d680-d7742be31969"
      },
      "execution_count": null,
      "outputs": [
        {
          "output_type": "stream",
          "name": "stdout",
          "text": [
            "Nombre de NaN dans ' ID: Activity/ Equipment ' : 5766\n"
          ]
        }
      ]
    },
    {
      "cell_type": "markdown",
      "source": [
        "Imputation de ID: Activity/ Equipment"
      ],
      "metadata": {
        "id": "KEO3-OtQLVx9"
      }
    },
    {
      "cell_type": "code",
      "source": [],
      "metadata": {
        "id": "iSo0d2MT_nAi"
      },
      "execution_count": null,
      "outputs": []
    },
    {
      "cell_type": "code",
      "source": [],
      "metadata": {
        "id": "cCNHTfcDLKbx"
      },
      "execution_count": null,
      "outputs": []
    },
    {
      "cell_type": "code",
      "source": [],
      "metadata": {
        "id": "ZcyHUZkyLJ7J"
      },
      "execution_count": null,
      "outputs": []
    },
    {
      "cell_type": "code",
      "source": [
        "print(\"Work center / Performed By:\", df_cleaned[\"Work center / Performed By\"].nunique(), \"valeurs uniques\")\n",
        "print(df_cleaned[\"Work center / Performed By\"].unique())\n"
      ],
      "metadata": {
        "colab": {
          "base_uri": "https://localhost:8080/"
        },
        "id": "axOOOkU7_nhi",
        "outputId": "f20e51ae-aa1f-401f-d85e-73f6f5b2eb3a"
      },
      "execution_count": null,
      "outputs": [
        {
          "output_type": "stream",
          "name": "stdout",
          "text": [
            "Work center / Performed By: 5 valeurs uniques\n",
            "[nan 'Electrical' 'Mechanical' 'mechanical' 'ELECTRICAL' 'electrical']\n"
          ]
        }
      ]
    },
    {
      "cell_type": "code",
      "source": [
        "\n",
        "df_cleaned[\"Work center / Performed By\"] = df_cleaned[\"Work center / Performed By\"].replace({\n",
        "    'electrical': 'Electrical',\n",
        "    'mechanical': 'Mechanical',\n",
        "    'ELECTRICAL': 'Electrical',\n",
        "    'MECHANICAL': 'Mechanical'\n",
        "})\n",
        "\n",
        "print(\"Work center / Performed By:\", df_cleaned[\"Work center / Performed By\"].nunique(), \"valeurs uniques\")\n",
        "print(df_cleaned[\"Work center / Performed By\"].unique())\n"
      ],
      "metadata": {
        "colab": {
          "base_uri": "https://localhost:8080/"
        },
        "id": "NOBK67oy_nw-",
        "outputId": "a4a6ae38-3357-4f1c-e9dd-369b8f6f0f60"
      },
      "execution_count": null,
      "outputs": [
        {
          "output_type": "stream",
          "name": "stdout",
          "text": [
            "Work center / Performed By: 2 valeurs uniques\n",
            "[nan 'Electrical' 'Mechanical']\n"
          ]
        }
      ]
    },
    {
      "cell_type": "code",
      "source": [
        "nan_count = df_cleaned[\"Work center / Performed By\"].isna().sum()\n",
        "print(\"Nombre de NaN dans 'Work center / Performed By:' :\", nan_count)\n"
      ],
      "metadata": {
        "colab": {
          "base_uri": "https://localhost:8080/"
        },
        "id": "dAyc0AnC_n_N",
        "outputId": "2db0b8ef-d6ec-4584-daae-959f71289ac8"
      },
      "execution_count": null,
      "outputs": [
        {
          "output_type": "stream",
          "name": "stdout",
          "text": [
            "Nombre de NaN dans 'Work center / Performed By:' : 2784\n"
          ]
        }
      ]
    },
    {
      "cell_type": "markdown",
      "source": [
        "Imputation de Work center / Performed By"
      ],
      "metadata": {
        "id": "VbUpcxdUOe-V"
      }
    },
    {
      "cell_type": "code",
      "source": [],
      "metadata": {
        "id": "nY_vAKS0baVU"
      },
      "execution_count": null,
      "outputs": []
    },
    {
      "cell_type": "code",
      "source": [],
      "metadata": {
        "id": "FOI-LNvqbaCY"
      },
      "execution_count": null,
      "outputs": []
    },
    {
      "cell_type": "code",
      "source": [],
      "metadata": {
        "id": "BtNdPGvlbZz6"
      },
      "execution_count": null,
      "outputs": []
    },
    {
      "cell_type": "code",
      "source": [
        "df_cleaned[\"Supervisor\"] = df_cleaned[\"Supervisor\"].str.strip()\n",
        "df_cleaned[\"Supervisor\"] = df_cleaned[\"Supervisor\"].replace({\n",
        "    'Mohamed Vadel Bounenna ISSA ': 'Mohamed Vadel Bounenna ISSA',\n",
        "    'Mohamed Habib Ellah Sidi Mohamed ': 'Mohamed Habib Ellah Sidi Mohamed',\n",
        "    'Ahmed Elemine BAH ': 'Ahmed Elemine Bah',\n",
        "    'Ahmed Elemine Bah': 'Ahmed Elemine BAH',\n",
        "    'Mohamed Mezid ': 'Mohamed Mezid',\n",
        "    'Mohamed Mamoun Bay ': 'Mohamed Mamoun Bay',\n",
        "})\n",
        "\n",
        "print(\"Supervisor:\", df_cleaned[\"Supervisor\"].nunique(), \"valeurs uniques\")\n",
        "print(df_cleaned[\"Supervisor\"].unique())\n"
      ],
      "metadata": {
        "colab": {
          "base_uri": "https://localhost:8080/"
        },
        "id": "IOhD7SqtHWwF",
        "outputId": "b2e74187-311c-41e7-81ec-cbc9b1774f2a"
      },
      "execution_count": null,
      "outputs": [
        {
          "output_type": "stream",
          "name": "stdout",
          "text": [
            "Supervisor: 16 valeurs uniques\n",
            "[nan 'Mohamed Vadel Bounenna ISSA' 'Mohamed Habib Ellah Sidi Mohamed'\n",
            " 'Ahmed Elemine BAH' 'Ahmed Vall Lekoueiry'\n",
            " 'Ahmed Saleck Mohameden El Vadhel' 'Touhana Ahmed Sidi Ahmed'\n",
            " 'Mohamed Mezid' 'Mohamed Mamoun Bay' 'Mohamed MEZID' 'Mohamed Mamoun bay'\n",
            " 'Mohamed Vadel Bounenna Issa' '100042 Mohamed Vadel Bounenna ISSA'\n",
            " '100359 Mohamed Lemine MEZID' '100078 Ahmed Elemine Bah'\n",
            " '100077 Mohamed Habib Ellah Sidi Mohamed' '100087 Mohamed Mamoun Bay']\n"
          ]
        }
      ]
    },
    {
      "cell_type": "code",
      "source": [
        "nan_count = df_cleaned[\"Supervisor\"].isna().sum()\n",
        "print(\"Nombre de NaN dans 'Supervisor' :\", nan_count)"
      ],
      "metadata": {
        "colab": {
          "base_uri": "https://localhost:8080/"
        },
        "id": "sVKANpPLO-4U",
        "outputId": "225875ea-3997-48e5-af08-7088bb973d4f"
      },
      "execution_count": null,
      "outputs": [
        {
          "output_type": "stream",
          "name": "stdout",
          "text": [
            "Nombre de NaN dans 'Supervisor' : 1882\n"
          ]
        }
      ]
    },
    {
      "cell_type": "markdown",
      "source": [
        "Imputtion de Supervisor"
      ],
      "metadata": {
        "id": "E81NPY0sahCP"
      }
    },
    {
      "cell_type": "code",
      "source": [],
      "metadata": {
        "id": "WQcTpVXvO-ns"
      },
      "execution_count": null,
      "outputs": []
    },
    {
      "cell_type": "code",
      "source": [],
      "metadata": {
        "id": "hg7ELvi7O-Y1"
      },
      "execution_count": null,
      "outputs": []
    },
    {
      "cell_type": "code",
      "source": [
        "\n",
        "print(\"Shift\", df_cleaned[\"Shift\"].nunique(), \"valeurs uniques\")\n",
        "print(df_cleaned[\"Shift\"].unique())\n"
      ],
      "metadata": {
        "colab": {
          "base_uri": "https://localhost:8080/"
        },
        "id": "p4VhPyblauDO",
        "outputId": "19284e08-b444-49f2-91c9-63fbcb7bc538"
      },
      "execution_count": null,
      "outputs": [
        {
          "output_type": "stream",
          "name": "stdout",
          "text": [
            "Shift 6 valeurs uniques\n",
            "[nan 'A' 'B' 'N' 'D' 'C' 'E']\n"
          ]
        }
      ]
    },
    {
      "cell_type": "code",
      "source": [
        "nan_count = df_cleaned[\"Shift\"].isna().sum()\n",
        "print(\"Nombre de NaN dans 'Shift' :\", nan_count)"
      ],
      "metadata": {
        "colab": {
          "base_uri": "https://localhost:8080/"
        },
        "id": "ah68t0Pcat2r",
        "outputId": "ba6e0c36-fa7d-4174-f124-93c7217c0c2e"
      },
      "execution_count": null,
      "outputs": [
        {
          "output_type": "stream",
          "name": "stdout",
          "text": [
            "Nombre de NaN dans 'Shift' : 1952\n"
          ]
        }
      ]
    },
    {
      "cell_type": "markdown",
      "source": [
        "Imputation de shift"
      ],
      "metadata": {
        "id": "0SK7jWM_dPTY"
      }
    },
    {
      "cell_type": "code",
      "source": [],
      "metadata": {
        "id": "kvsmwJQiO-GG"
      },
      "execution_count": null,
      "outputs": []
    },
    {
      "cell_type": "code",
      "source": [],
      "metadata": {
        "id": "43Pt8JS0difr"
      },
      "execution_count": null,
      "outputs": []
    },
    {
      "cell_type": "code",
      "source": [],
      "metadata": {
        "id": "mQh3QZXIdhC_"
      },
      "execution_count": null,
      "outputs": []
    }
  ]
}